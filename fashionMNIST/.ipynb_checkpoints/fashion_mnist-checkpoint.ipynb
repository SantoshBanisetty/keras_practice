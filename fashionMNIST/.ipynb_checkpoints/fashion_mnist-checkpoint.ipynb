{
 "cells": [
  {
   "cell_type": "markdown",
   "metadata": {},
   "source": [
    "# Fashion MNIST using Keras"
   ]
  },
  {
   "cell_type": "code",
   "execution_count": 1,
   "metadata": {},
   "outputs": [
    {
     "name": "stderr",
     "output_type": "stream",
     "text": [
      "Using TensorFlow backend.\n"
     ]
    }
   ],
   "source": [
    "from __future__ import print_function\n",
    "import numpy as np\n",
    "import matplotlib.pyplot as plt\n",
    "%matplotlib inline\n",
    "import keras\n",
    "from keras.models import Sequential\n",
    "from keras.layers import Dense, Conv2D, MaxPooling2D, Dropout, Flatten\n",
    "from keras.layers.normalization import BatchNormalization\n",
    "import pandas as pd"
   ]
  },
  {
   "cell_type": "markdown",
   "metadata": {},
   "source": [
    "0 T-shirt/top 1 Trouser 2 Pullover 3 Dress 4 Coat 5 Sandal 6 Shirt 7 Sneaker 8 Bag 9 Ankle boot"
   ]
  },
  {
   "cell_type": "code",
   "execution_count": 2,
   "metadata": {},
   "outputs": [
    {
     "data": {
      "text/html": [
       "<div>\n",
       "<style scoped>\n",
       "    .dataframe tbody tr th:only-of-type {\n",
       "        vertical-align: middle;\n",
       "    }\n",
       "\n",
       "    .dataframe tbody tr th {\n",
       "        vertical-align: top;\n",
       "    }\n",
       "\n",
       "    .dataframe thead th {\n",
       "        text-align: right;\n",
       "    }\n",
       "</style>\n",
       "<table border=\"1\" class=\"dataframe\">\n",
       "  <thead>\n",
       "    <tr style=\"text-align: right;\">\n",
       "      <th></th>\n",
       "      <th>label</th>\n",
       "      <th>pixel1</th>\n",
       "      <th>pixel2</th>\n",
       "      <th>pixel3</th>\n",
       "      <th>pixel4</th>\n",
       "      <th>pixel5</th>\n",
       "      <th>pixel6</th>\n",
       "      <th>pixel7</th>\n",
       "      <th>pixel8</th>\n",
       "      <th>pixel9</th>\n",
       "      <th>...</th>\n",
       "      <th>pixel775</th>\n",
       "      <th>pixel776</th>\n",
       "      <th>pixel777</th>\n",
       "      <th>pixel778</th>\n",
       "      <th>pixel779</th>\n",
       "      <th>pixel780</th>\n",
       "      <th>pixel781</th>\n",
       "      <th>pixel782</th>\n",
       "      <th>pixel783</th>\n",
       "      <th>pixel784</th>\n",
       "    </tr>\n",
       "  </thead>\n",
       "  <tbody>\n",
       "    <tr>\n",
       "      <th>0</th>\n",
       "      <td>2</td>\n",
       "      <td>0</td>\n",
       "      <td>0</td>\n",
       "      <td>0</td>\n",
       "      <td>0</td>\n",
       "      <td>0</td>\n",
       "      <td>0</td>\n",
       "      <td>0</td>\n",
       "      <td>0</td>\n",
       "      <td>0</td>\n",
       "      <td>...</td>\n",
       "      <td>0</td>\n",
       "      <td>0</td>\n",
       "      <td>0</td>\n",
       "      <td>0</td>\n",
       "      <td>0</td>\n",
       "      <td>0</td>\n",
       "      <td>0</td>\n",
       "      <td>0</td>\n",
       "      <td>0</td>\n",
       "      <td>0</td>\n",
       "    </tr>\n",
       "    <tr>\n",
       "      <th>1</th>\n",
       "      <td>9</td>\n",
       "      <td>0</td>\n",
       "      <td>0</td>\n",
       "      <td>0</td>\n",
       "      <td>0</td>\n",
       "      <td>0</td>\n",
       "      <td>0</td>\n",
       "      <td>0</td>\n",
       "      <td>0</td>\n",
       "      <td>0</td>\n",
       "      <td>...</td>\n",
       "      <td>0</td>\n",
       "      <td>0</td>\n",
       "      <td>0</td>\n",
       "      <td>0</td>\n",
       "      <td>0</td>\n",
       "      <td>0</td>\n",
       "      <td>0</td>\n",
       "      <td>0</td>\n",
       "      <td>0</td>\n",
       "      <td>0</td>\n",
       "    </tr>\n",
       "    <tr>\n",
       "      <th>2</th>\n",
       "      <td>6</td>\n",
       "      <td>0</td>\n",
       "      <td>0</td>\n",
       "      <td>0</td>\n",
       "      <td>0</td>\n",
       "      <td>0</td>\n",
       "      <td>0</td>\n",
       "      <td>0</td>\n",
       "      <td>5</td>\n",
       "      <td>0</td>\n",
       "      <td>...</td>\n",
       "      <td>0</td>\n",
       "      <td>0</td>\n",
       "      <td>0</td>\n",
       "      <td>30</td>\n",
       "      <td>43</td>\n",
       "      <td>0</td>\n",
       "      <td>0</td>\n",
       "      <td>0</td>\n",
       "      <td>0</td>\n",
       "      <td>0</td>\n",
       "    </tr>\n",
       "    <tr>\n",
       "      <th>3</th>\n",
       "      <td>0</td>\n",
       "      <td>0</td>\n",
       "      <td>0</td>\n",
       "      <td>0</td>\n",
       "      <td>1</td>\n",
       "      <td>2</td>\n",
       "      <td>0</td>\n",
       "      <td>0</td>\n",
       "      <td>0</td>\n",
       "      <td>0</td>\n",
       "      <td>...</td>\n",
       "      <td>3</td>\n",
       "      <td>0</td>\n",
       "      <td>0</td>\n",
       "      <td>0</td>\n",
       "      <td>0</td>\n",
       "      <td>1</td>\n",
       "      <td>0</td>\n",
       "      <td>0</td>\n",
       "      <td>0</td>\n",
       "      <td>0</td>\n",
       "    </tr>\n",
       "    <tr>\n",
       "      <th>4</th>\n",
       "      <td>3</td>\n",
       "      <td>0</td>\n",
       "      <td>0</td>\n",
       "      <td>0</td>\n",
       "      <td>0</td>\n",
       "      <td>0</td>\n",
       "      <td>0</td>\n",
       "      <td>0</td>\n",
       "      <td>0</td>\n",
       "      <td>0</td>\n",
       "      <td>...</td>\n",
       "      <td>0</td>\n",
       "      <td>0</td>\n",
       "      <td>0</td>\n",
       "      <td>0</td>\n",
       "      <td>0</td>\n",
       "      <td>0</td>\n",
       "      <td>0</td>\n",
       "      <td>0</td>\n",
       "      <td>0</td>\n",
       "      <td>0</td>\n",
       "    </tr>\n",
       "  </tbody>\n",
       "</table>\n",
       "<p>5 rows × 785 columns</p>\n",
       "</div>"
      ],
      "text/plain": [
       "   label  pixel1  pixel2  pixel3  pixel4  pixel5  pixel6  pixel7  pixel8  \\\n",
       "0      2       0       0       0       0       0       0       0       0   \n",
       "1      9       0       0       0       0       0       0       0       0   \n",
       "2      6       0       0       0       0       0       0       0       5   \n",
       "3      0       0       0       0       1       2       0       0       0   \n",
       "4      3       0       0       0       0       0       0       0       0   \n",
       "\n",
       "   pixel9  ...  pixel775  pixel776  pixel777  pixel778  pixel779  pixel780  \\\n",
       "0       0  ...         0         0         0         0         0         0   \n",
       "1       0  ...         0         0         0         0         0         0   \n",
       "2       0  ...         0         0         0        30        43         0   \n",
       "3       0  ...         3         0         0         0         0         1   \n",
       "4       0  ...         0         0         0         0         0         0   \n",
       "\n",
       "   pixel781  pixel782  pixel783  pixel784  \n",
       "0         0         0         0         0  \n",
       "1         0         0         0         0  \n",
       "2         0         0         0         0  \n",
       "3         0         0         0         0  \n",
       "4         0         0         0         0  \n",
       "\n",
       "[5 rows x 785 columns]"
      ]
     },
     "execution_count": 2,
     "metadata": {},
     "output_type": "execute_result"
    }
   ],
   "source": [
    "train = pd.read_csv(r'./data/fashion-mnist_train.csv')\n",
    "test = pd.read_csv(r'./data/fashion-mnist_test.csv')\n",
    "train.head()# few rows"
   ]
  },
  {
   "cell_type": "code",
   "execution_count": 3,
   "metadata": {},
   "outputs": [],
   "source": [
    "#Standardization\n",
    "train_data = np.array(train, dtype='float32')\n",
    "test_data = np.array(test, dtype='float32')\n",
    "\n",
    "x_train = train_data[:, 1:] / 255#column 1 to last\n",
    "y_train = train_data[:, 0]#first column\n",
    "#Similar\n",
    "x_test = test_data[:, 1:] / 255\n",
    "y_test = test_data[:, 0]"
   ]
  },
  {
   "cell_type": "code",
   "execution_count": 4,
   "metadata": {},
   "outputs": [],
   "source": [
    "from sklearn.model_selection import train_test_split\n",
    "x_train, x_val, y_train, y_val = train_test_split(x_train, y_train, test_size=0.2, random_state=2018)"
   ]
  },
  {
   "cell_type": "code",
   "execution_count": 5,
   "metadata": {},
   "outputs": [
    {
     "data": {
      "image/png": "[encoded data removed]",
      "text/plain": [
       "<Figure size 1080x1080 with 6 Axes>"
      ]
     },
     "metadata": {
      "needs_background": "light"
     },
     "output_type": "display_data"
    }
   ],
   "source": [
    "idx = [0,100,250,500,800,1500]\n",
    "N = len(idx)\n",
    "plt.figure(figsize=(15,15))\n",
    "for i in range(N):\n",
    "    plt.subplot(1,N, i+1)\n",
    "    image = x_train[i, :].reshape((28, 28))\n",
    "    plt.imshow(image, cmap='gray')\n",
    "    plt.title(\"Label: {}\".format(y_train[idx[i]]))\n",
    "    plt.axis('off')\n",
    "plt.show()"
   ]
  },
  {
   "cell_type": "code",
   "execution_count": 6,
   "metadata": {},
   "outputs": [
    {
     "name": "stdout",
     "output_type": "stream",
     "text": [
      "(48000, 784)\n",
      "<class 'numpy.ndarray'>\n"
     ]
    }
   ],
   "source": [
    "print(x_train.shape)\n",
    "print(type(x_train))"
   ]
  },
  {
   "cell_type": "code",
   "execution_count": 7,
   "metadata": {},
   "outputs": [
    {
     "name": "stdout",
     "output_type": "stream",
     "text": [
      "x_train shape: (48000, 28, 28, 1)\n",
      "x_test shape: (10000, 28, 28, 1)\n",
      "x_validate shape: (12000, 28, 28, 1)\n"
     ]
    }
   ],
   "source": [
    "im_rows = 28\n",
    "im_cols = 28\n",
    "batch_size = 512\n",
    "im_shape = (im_rows, im_cols, 1)\n",
    "\n",
    "x_train = x_train.reshape(x_train.shape[0], *im_shape)\n",
    "x_test = x_test.reshape(x_test.shape[0], *im_shape)\n",
    "x_val = x_val.reshape(x_val.shape[0], *im_shape)\n",
    "\n",
    "print('x_train shape: {}'.format(x_train.shape))\n",
    "print('x_test shape: {}'.format(x_test.shape))\n",
    "print('x_validate shape: {}'.format(x_val.shape))"
   ]
  },
  {
   "cell_type": "code",
   "execution_count": 8,
   "metadata": {},
   "outputs": [],
   "source": [
    "def createModel():\n",
    "    model = Sequential()\n",
    "    model.add(Conv2D(filters=32, kernel_size=3, activation='relu', input_shape=im_shape))\n",
    "    model.add(BatchNormalization())\n",
    "    model.add(MaxPooling2D(pool_size=(2,2)))\n",
    "    model.add(Dropout(0.3))\n",
    "    model.add(Flatten())\n",
    "    model.add(Dense(units=64, activation='relu'))\n",
    "    model.add(Dense(units=10, activation='softmax'))# number of classes\n",
    "    return model"
   ]
  },
  {
   "cell_type": "code",
   "execution_count": 9,
   "metadata": {},
   "outputs": [],
   "source": [
    "model1=createModel()"
   ]
  },
  {
   "cell_type": "code",
   "execution_count": 10,
   "metadata": {},
   "outputs": [],
   "source": [
    "#Not one-hot encoded; Sparse\n",
    "model1.compile(loss='sparse_categorical_crossentropy', optimizer='adam', metrics=['accuracy'])"
   ]
  },
  {
   "cell_type": "code",
   "execution_count": 11,
   "metadata": {},
   "outputs": [],
   "source": [
    "from keras.callbacks import TensorBoard\n",
    "tensorboard = TensorBoard(\n",
    "    log_dir=r'.\\data\\logs\\{}'.format('cnn_1layer'),\n",
    "    write_graph=True,\n",
    "    write_grads=True,\n",
    "    histogram_freq=1,\n",
    "    write_images=True,\n",
    ")"
   ]
  },
  {
   "cell_type": "code",
   "execution_count": 12,
   "metadata": {},
   "outputs": [
    {
     "name": "stdout",
     "output_type": "stream",
     "text": [
      "Train on 48000 samples, validate on 12000 samples\n",
      "Epoch 1/10\n",
      "48000/48000 [==============================] - 2s 48us/step - loss: 0.4814 - acc: 0.8292 - val_loss: 0.3030 - val_acc: 0.8942\n",
      "Epoch 2/10\n",
      "48000/48000 [==============================] - 2s 33us/step - loss: 0.2829 - acc: 0.8961 - val_loss: 0.2746 - val_acc: 0.9010\n",
      "Epoch 3/10\n",
      "48000/48000 [==============================] - 2s 33us/step - loss: 0.2416 - acc: 0.9103 - val_loss: 0.2646 - val_acc: 0.9066\n",
      "Epoch 4/10\n",
      "48000/48000 [==============================] - 2s 33us/step - loss: 0.2113 - acc: 0.9209 - val_loss: 0.2568 - val_acc: 0.9084\n",
      "Epoch 5/10\n",
      "48000/48000 [==============================] - 2s 36us/step - loss: 0.1878 - acc: 0.9297 - val_loss: 0.2522 - val_acc: 0.9102\n",
      "Epoch 6/10\n",
      "48000/48000 [==============================] - 2s 33us/step - loss: 0.1705 - acc: 0.9355 - val_loss: 0.2530 - val_acc: 0.9132\n",
      "Epoch 7/10\n",
      "48000/48000 [==============================] - 2s 32us/step - loss: 0.1599 - acc: 0.9405 - val_loss: 0.2654 - val_acc: 0.9086\n",
      "Epoch 8/10\n",
      "48000/48000 [==============================] - 2s 32us/step - loss: 0.1447 - acc: 0.9450 - val_loss: 0.2653 - val_acc: 0.9136\n",
      "Epoch 9/10\n",
      "48000/48000 [==============================] - 2s 33us/step - loss: 0.1359 - acc: 0.9503 - val_loss: 0.2651 - val_acc: 0.9126\n",
      "Epoch 10/10\n",
      "48000/48000 [==============================] - 2s 33us/step - loss: 0.1255 - acc: 0.9522 - val_loss: 0.2637 - val_acc: 0.9138\n"
     ]
    }
   ],
   "source": [
    "history1 = model1.fit(\n",
    "    x_train, y_train, batch_size=batch_size,\n",
    "    epochs=10, verbose=1,\n",
    "    validation_data=(x_val, y_val)\n",
    ")"
   ]
  },
  {
   "cell_type": "code",
   "execution_count": 13,
   "metadata": {},
   "outputs": [
    {
     "data": {
      "text/plain": [
       "Text(0.5, 1.0, 'Accuracy Curves')"
      ]
     },
     "execution_count": 13,
     "metadata": {},
     "output_type": "execute_result"
    },
    {
     "data": {
      "image/png": "[encoded data removed]",
      "text/plain": [
       "<Figure size 576x432 with 1 Axes>"
      ]
     },
     "metadata": {
      "needs_background": "light"
     },
     "output_type": "display_data"
    },
    {
     "data": {
      "image/png": "[encoded data removed]",
      "text/plain": [
       "<Figure size 576x432 with 1 Axes>"
      ]
     },
     "metadata": {
      "needs_background": "light"
     },
     "output_type": "display_data"
    }
   ],
   "source": [
    "# Loss Curves\n",
    "plt.figure(figsize=[8,6])\n",
    "plt.plot(history1.history['loss'],'r',linewidth=3.0)\n",
    "plt.plot(history1.history['val_loss'],'b',linewidth=3.0)\n",
    "plt.legend(['Training loss', 'Validation Loss'],fontsize=18)\n",
    "plt.xlabel('Epochs ',fontsize=16)\n",
    "plt.ylabel('Loss',fontsize=16)\n",
    "plt.title('Loss Curves',fontsize=16)\n",
    " \n",
    "# Accuracy Curves\n",
    "plt.figure(figsize=[8,6])\n",
    "plt.plot(history1.history['acc'],'r',linewidth=3.0)\n",
    "plt.plot(history1.history['val_acc'],'b',linewidth=3.0)\n",
    "plt.legend(['Training Accuracy', 'Validation Accuracy'],fontsize=18)\n",
    "plt.xlabel('Epochs ',fontsize=16)\n",
    "plt.ylabel('Accuracy',fontsize=16)\n",
    "plt.title('Accuracy Curves',fontsize=16)"
   ]
  },
  {
   "cell_type": "code",
   "execution_count": 14,
   "metadata": {},
   "outputs": [],
   "source": [
    "def createModel2():\n",
    "    classifier = Sequential()#Initialize \n",
    "\n",
    "    classifier.add(Conv2D(filters=32, kernel_size=3, strides=(1, 1), padding='same', input_shape=im_shape, activation='relu'))\n",
    "    classifier.add(Conv2D(filters=32, kernel_size=3, strides=(1, 1), padding='same', activation='relu'))\n",
    "    classifier.add(MaxPooling2D(pool_size=(2,2)))\n",
    "    classifier.add(Dropout(0.5))\n",
    "    classifier.add(Conv2D(filters=32, kernel_size=3, strides=(1, 1), padding='same', activation='relu'))\n",
    "    classifier.add(Conv2D(filters=32, kernel_size=3, strides=(1, 1), padding='same', activation='relu'))\n",
    "    classifier.add(Conv2D(filters=32, kernel_size=3, strides=(1, 1), padding='same', activation='relu'))\n",
    "    classifier.add(MaxPooling2D(pool_size=(2,2)))\n",
    "    classifier.add(Dropout(0.5))\n",
    "    classifier.add(Conv2D(filters=32, kernel_size=3, strides=(1, 1), padding='same', activation='relu'))\n",
    "    classifier.add(Conv2D(filters=32, kernel_size=3, strides=(1, 1), padding='same', activation='relu'))\n",
    "    classifier.add(Conv2D(filters=32, kernel_size=3, strides=(1, 1), padding='same', activation='relu'))\n",
    "    classifier.add(MaxPooling2D(pool_size=(2,2)))\n",
    "    classifier.add(Dropout(0.5))\n",
    "    classifier.add(Flatten())\n",
    "    classifier.add(Dense(units=128, activation='relu'))\n",
    "    classifier.add(Dropout(0.5))\n",
    "    classifier.add(Dense(units=64, activation='relu'))\n",
    "    classifier.add(Dense(units=32, activation='relu'))\n",
    "    classifier.add(Dense(units=10, activation='softmax'))\n",
    "    \n",
    "    return classifier"
   ]
  },
  {
   "cell_type": "code",
   "execution_count": 19,
   "metadata": {},
   "outputs": [],
   "source": [
    "#Model 1 - Overfitting\n",
    "model2=createModel2()"
   ]
  },
  {
   "cell_type": "code",
   "execution_count": 20,
   "metadata": {},
   "outputs": [],
   "source": [
    "#Not one-hot encoded; Sparse\n",
    "model2.compile(loss='sparse_categorical_crossentropy', optimizer='adam', metrics=['accuracy'])"
   ]
  },
  {
   "cell_type": "code",
   "execution_count": 21,
   "metadata": {},
   "outputs": [
    {
     "name": "stdout",
     "output_type": "stream",
     "text": [
      "Train on 48000 samples, validate on 12000 samples\n",
      "Epoch 1/200\n",
      "48000/48000 [==============================] - 3s 69us/step - loss: 1.5372 - acc: 0.3918 - val_loss: 0.7471 - val_acc: 0.7138\n",
      "Epoch 2/200\n",
      "48000/48000 [==============================] - 3s 56us/step - loss: 0.8011 - acc: 0.6994 - val_loss: 0.5911 - val_acc: 0.7667\n",
      "Epoch 3/200\n",
      "48000/48000 [==============================] - 3s 57us/step - loss: 0.6550 - acc: 0.7527 - val_loss: 0.5096 - val_acc: 0.8137\n",
      "Epoch 4/200\n",
      "48000/48000 [==============================] - 3s 56us/step - loss: 0.5847 - acc: 0.7803 - val_loss: 0.4544 - val_acc: 0.8214\n",
      "Epoch 5/200\n",
      "48000/48000 [==============================] - 3s 57us/step - loss: 0.5434 - acc: 0.7961 - val_loss: 0.4319 - val_acc: 0.8232\n",
      "Epoch 6/200\n",
      "48000/48000 [==============================] - 3s 55us/step - loss: 0.5017 - acc: 0.8157 - val_loss: 0.4019 - val_acc: 0.8440\n",
      "Epoch 7/200\n",
      "48000/48000 [==============================] - 3s 57us/step - loss: 0.4805 - acc: 0.8220 - val_loss: 0.3608 - val_acc: 0.8658\n",
      "Epoch 8/200\n",
      "48000/48000 [==============================] - 3s 55us/step - loss: 0.4530 - acc: 0.8344 - val_loss: 0.3463 - val_acc: 0.8717\n",
      "Epoch 9/200\n",
      "48000/48000 [==============================] - 3s 56us/step - loss: 0.4307 - acc: 0.8433 - val_loss: 0.3390 - val_acc: 0.8761\n",
      "Epoch 10/200\n",
      "48000/48000 [==============================] - 3s 57us/step - loss: 0.4186 - acc: 0.8475 - val_loss: 0.3303 - val_acc: 0.8805\n",
      "Epoch 11/200\n",
      "48000/48000 [==============================] - 3s 57us/step - loss: 0.4027 - acc: 0.8542 - val_loss: 0.3103 - val_acc: 0.8872\n",
      "Epoch 12/200\n",
      "48000/48000 [==============================] - 3s 57us/step - loss: 0.3866 - acc: 0.8615 - val_loss: 0.3059 - val_acc: 0.8922\n",
      "Epoch 13/200\n",
      "48000/48000 [==============================] - 3s 54us/step - loss: 0.3784 - acc: 0.8650 - val_loss: 0.3017 - val_acc: 0.8889\n",
      "Epoch 14/200\n",
      "48000/48000 [==============================] - 3s 57us/step - loss: 0.3625 - acc: 0.8692 - val_loss: 0.2868 - val_acc: 0.8976\n",
      "Epoch 15/200\n",
      "48000/48000 [==============================] - 3s 57us/step - loss: 0.3512 - acc: 0.8741 - val_loss: 0.2734 - val_acc: 0.9012\n",
      "Epoch 16/200\n",
      "48000/48000 [==============================] - 3s 56us/step - loss: 0.3479 - acc: 0.8758 - val_loss: 0.2738 - val_acc: 0.9005\n",
      "Epoch 17/200\n",
      "48000/48000 [==============================] - 3s 57us/step - loss: 0.3378 - acc: 0.8790 - val_loss: 0.2741 - val_acc: 0.8996\n",
      "Epoch 18/200\n",
      "48000/48000 [==============================] - 3s 56us/step - loss: 0.3360 - acc: 0.8801 - val_loss: 0.2691 - val_acc: 0.9049\n",
      "Epoch 19/200\n",
      "48000/48000 [==============================] - 3s 56us/step - loss: 0.3275 - acc: 0.8827 - val_loss: 0.2615 - val_acc: 0.9047\n",
      "Epoch 20/200\n",
      "48000/48000 [==============================] - 3s 55us/step - loss: 0.3245 - acc: 0.8833 - val_loss: 0.2582 - val_acc: 0.9057\n",
      "Epoch 21/200\n",
      "48000/48000 [==============================] - 3s 57us/step - loss: 0.3198 - acc: 0.8860 - val_loss: 0.2521 - val_acc: 0.9098\n",
      "Epoch 22/200\n",
      "48000/48000 [==============================] - 3s 57us/step - loss: 0.3163 - acc: 0.8861 - val_loss: 0.2615 - val_acc: 0.9032\n",
      "Epoch 23/200\n",
      "48000/48000 [==============================] - 3s 56us/step - loss: 0.3091 - acc: 0.8880 - val_loss: 0.2568 - val_acc: 0.9068\n",
      "Epoch 24/200\n",
      "48000/48000 [==============================] - 3s 56us/step - loss: 0.3054 - acc: 0.8898 - val_loss: 0.2514 - val_acc: 0.9098\n",
      "Epoch 25/200\n",
      "48000/48000 [==============================] - 3s 55us/step - loss: 0.3016 - acc: 0.8917 - val_loss: 0.2468 - val_acc: 0.9112\n",
      "Epoch 26/200\n",
      "48000/48000 [==============================] - 3s 55us/step - loss: 0.2996 - acc: 0.8925 - val_loss: 0.2454 - val_acc: 0.9107\n",
      "Epoch 27/200\n",
      "48000/48000 [==============================] - 3s 55us/step - loss: 0.3001 - acc: 0.8899 - val_loss: 0.2509 - val_acc: 0.9088\n",
      "Epoch 28/200\n",
      "48000/48000 [==============================] - 3s 56us/step - loss: 0.2902 - acc: 0.8959 - val_loss: 0.2402 - val_acc: 0.9131\n",
      "Epoch 29/200\n",
      "48000/48000 [==============================] - 3s 57us/step - loss: 0.2949 - acc: 0.8931 - val_loss: 0.2464 - val_acc: 0.9109\n",
      "Epoch 30/200\n",
      "48000/48000 [==============================] - 3s 56us/step - loss: 0.2847 - acc: 0.8962 - val_loss: 0.2360 - val_acc: 0.9143\n",
      "Epoch 31/200\n",
      "48000/48000 [==============================] - 3s 55us/step - loss: 0.2855 - acc: 0.8975 - val_loss: 0.2372 - val_acc: 0.9163\n",
      "Epoch 32/200\n",
      "48000/48000 [==============================] - 3s 57us/step - loss: 0.2803 - acc: 0.8991 - val_loss: 0.2361 - val_acc: 0.9154\n",
      "Epoch 33/200\n",
      "48000/48000 [==============================] - 3s 57us/step - loss: 0.2813 - acc: 0.8988 - val_loss: 0.2465 - val_acc: 0.9101\n",
      "Epoch 34/200\n",
      "48000/48000 [==============================] - 3s 55us/step - loss: 0.2783 - acc: 0.9002 - val_loss: 0.2346 - val_acc: 0.9153\n",
      "Epoch 35/200\n",
      "48000/48000 [==============================] - 3s 56us/step - loss: 0.2750 - acc: 0.9000 - val_loss: 0.2346 - val_acc: 0.9169\n",
      "Epoch 36/200\n",
      "48000/48000 [==============================] - 3s 55us/step - loss: 0.2756 - acc: 0.9003 - val_loss: 0.2546 - val_acc: 0.9035\n",
      "Epoch 37/200\n",
      "48000/48000 [==============================] - 3s 54us/step - loss: 0.2777 - acc: 0.9000 - val_loss: 0.2380 - val_acc: 0.9147\n",
      "Epoch 38/200\n",
      "48000/48000 [==============================] - 3s 55us/step - loss: 0.2692 - acc: 0.9027 - val_loss: 0.2331 - val_acc: 0.9121\n",
      "Epoch 39/200\n",
      "48000/48000 [==============================] - 3s 55us/step - loss: 0.2711 - acc: 0.9029 - val_loss: 0.2303 - val_acc: 0.9168\n",
      "Epoch 40/200\n",
      "48000/48000 [==============================] - 3s 56us/step - loss: 0.2681 - acc: 0.9034 - val_loss: 0.2254 - val_acc: 0.9192\n",
      "Epoch 41/200\n",
      "48000/48000 [==============================] - 3s 55us/step - loss: 0.2657 - acc: 0.9039 - val_loss: 0.2225 - val_acc: 0.9181\n",
      "Epoch 42/200\n",
      "48000/48000 [==============================] - 3s 54us/step - loss: 0.2636 - acc: 0.9038 - val_loss: 0.2301 - val_acc: 0.9168\n",
      "Epoch 43/200\n",
      "48000/48000 [==============================] - 3s 55us/step - loss: 0.2588 - acc: 0.9066 - val_loss: 0.2202 - val_acc: 0.9196\n",
      "Epoch 44/200\n",
      "48000/48000 [==============================] - 3s 56us/step - loss: 0.2592 - acc: 0.9065 - val_loss: 0.2263 - val_acc: 0.9204\n",
      "Epoch 45/200\n",
      "48000/48000 [==============================] - 3s 57us/step - loss: 0.2593 - acc: 0.9058 - val_loss: 0.2221 - val_acc: 0.9192\n",
      "Epoch 46/200\n",
      "48000/48000 [==============================] - 3s 55us/step - loss: 0.2586 - acc: 0.9066 - val_loss: 0.2260 - val_acc: 0.9174\n",
      "Epoch 47/200\n",
      "48000/48000 [==============================] - 3s 57us/step - loss: 0.2549 - acc: 0.9073 - val_loss: 0.2274 - val_acc: 0.9167\n",
      "Epoch 48/200\n",
      "48000/48000 [==============================] - 3s 55us/step - loss: 0.2526 - acc: 0.9086 - val_loss: 0.2256 - val_acc: 0.9189\n",
      "Epoch 49/200\n",
      "48000/48000 [==============================] - 3s 56us/step - loss: 0.2492 - acc: 0.9102 - val_loss: 0.2281 - val_acc: 0.9168\n",
      "Epoch 50/200\n",
      "48000/48000 [==============================] - 3s 55us/step - loss: 0.2536 - acc: 0.9082 - val_loss: 0.2216 - val_acc: 0.9192\n",
      "Epoch 51/200\n",
      "48000/48000 [==============================] - 3s 54us/step - loss: 0.2558 - acc: 0.9087 - val_loss: 0.2180 - val_acc: 0.9205\n",
      "Epoch 52/200\n",
      "48000/48000 [==============================] - 3s 56us/step - loss: 0.2480 - acc: 0.9091 - val_loss: 0.2262 - val_acc: 0.9206\n",
      "Epoch 53/200\n",
      "48000/48000 [==============================] - 3s 56us/step - loss: 0.2471 - acc: 0.9109 - val_loss: 0.2193 - val_acc: 0.9195\n",
      "Epoch 54/200\n",
      "48000/48000 [==============================] - 3s 55us/step - loss: 0.2464 - acc: 0.9113 - val_loss: 0.2194 - val_acc: 0.9213\n",
      "Epoch 55/200\n",
      "48000/48000 [==============================] - 3s 56us/step - loss: 0.2470 - acc: 0.9119 - val_loss: 0.2276 - val_acc: 0.9175\n",
      "Epoch 56/200\n",
      "48000/48000 [==============================] - 3s 56us/step - loss: 0.2420 - acc: 0.9133 - val_loss: 0.2159 - val_acc: 0.9231\n",
      "Epoch 57/200\n",
      "48000/48000 [==============================] - 3s 56us/step - loss: 0.2450 - acc: 0.9103 - val_loss: 0.2177 - val_acc: 0.9198\n",
      "Epoch 58/200\n",
      "48000/48000 [==============================] - 3s 56us/step - loss: 0.2421 - acc: 0.9132 - val_loss: 0.2125 - val_acc: 0.9224\n",
      "Epoch 59/200\n"
     ]
    },
    {
     "name": "stdout",
     "output_type": "stream",
     "text": [
      "48000/48000 [==============================] - 3s 57us/step - loss: 0.2421 - acc: 0.9131 - val_loss: 0.2165 - val_acc: 0.9228\n",
      "Epoch 60/200\n",
      "48000/48000 [==============================] - 3s 59us/step - loss: 0.2407 - acc: 0.9126 - val_loss: 0.2119 - val_acc: 0.9228\n",
      "Epoch 61/200\n",
      "48000/48000 [==============================] - 3s 55us/step - loss: 0.2386 - acc: 0.9128 - val_loss: 0.2158 - val_acc: 0.9223\n",
      "Epoch 62/200\n",
      "48000/48000 [==============================] - 3s 59us/step - loss: 0.2386 - acc: 0.9144 - val_loss: 0.2121 - val_acc: 0.9239\n",
      "Epoch 63/200\n",
      "48000/48000 [==============================] - 3s 56us/step - loss: 0.2352 - acc: 0.9152 - val_loss: 0.2116 - val_acc: 0.9238\n",
      "Epoch 64/200\n",
      "48000/48000 [==============================] - 3s 59us/step - loss: 0.2392 - acc: 0.9130 - val_loss: 0.2107 - val_acc: 0.9249\n",
      "Epoch 65/200\n",
      "48000/48000 [==============================] - 3s 58us/step - loss: 0.2321 - acc: 0.9149 - val_loss: 0.2160 - val_acc: 0.9231\n",
      "Epoch 66/200\n",
      "48000/48000 [==============================] - 3s 57us/step - loss: 0.2387 - acc: 0.9139 - val_loss: 0.2144 - val_acc: 0.9246\n",
      "Epoch 67/200\n",
      "48000/48000 [==============================] - 3s 56us/step - loss: 0.2299 - acc: 0.9174 - val_loss: 0.2151 - val_acc: 0.9242\n",
      "Epoch 68/200\n",
      "48000/48000 [==============================] - 3s 58us/step - loss: 0.2334 - acc: 0.9165 - val_loss: 0.2104 - val_acc: 0.9262\n",
      "Epoch 69/200\n",
      "48000/48000 [==============================] - 3s 57us/step - loss: 0.2304 - acc: 0.9169 - val_loss: 0.2057 - val_acc: 0.9261\n",
      "Epoch 70/200\n",
      "48000/48000 [==============================] - 3s 60us/step - loss: 0.2345 - acc: 0.9152 - val_loss: 0.2070 - val_acc: 0.9258\n",
      "Epoch 71/200\n",
      "48000/48000 [==============================] - 3s 57us/step - loss: 0.2290 - acc: 0.9167 - val_loss: 0.2083 - val_acc: 0.9267\n",
      "Epoch 72/200\n",
      "48000/48000 [==============================] - 3s 55us/step - loss: 0.2305 - acc: 0.9167 - val_loss: 0.2052 - val_acc: 0.9267\n",
      "Epoch 73/200\n",
      "48000/48000 [==============================] - 3s 56us/step - loss: 0.2302 - acc: 0.9157 - val_loss: 0.2083 - val_acc: 0.9263\n",
      "Epoch 74/200\n",
      "48000/48000 [==============================] - 3s 57us/step - loss: 0.2296 - acc: 0.9166 - val_loss: 0.2171 - val_acc: 0.9234\n",
      "Epoch 75/200\n",
      "48000/48000 [==============================] - 3s 58us/step - loss: 0.2261 - acc: 0.9180 - val_loss: 0.2098 - val_acc: 0.9246\n",
      "Epoch 76/200\n",
      "48000/48000 [==============================] - 3s 58us/step - loss: 0.2266 - acc: 0.9160 - val_loss: 0.2081 - val_acc: 0.9255\n",
      "Epoch 77/200\n",
      "48000/48000 [==============================] - 3s 56us/step - loss: 0.2270 - acc: 0.9191 - val_loss: 0.2037 - val_acc: 0.9266\n",
      "Epoch 78/200\n",
      "48000/48000 [==============================] - 3s 57us/step - loss: 0.2247 - acc: 0.9179 - val_loss: 0.2091 - val_acc: 0.9238\n",
      "Epoch 79/200\n",
      "48000/48000 [==============================] - 3s 56us/step - loss: 0.2245 - acc: 0.9181 - val_loss: 0.2055 - val_acc: 0.9236\n",
      "Epoch 80/200\n",
      "48000/48000 [==============================] - 3s 57us/step - loss: 0.2217 - acc: 0.9197 - val_loss: 0.2027 - val_acc: 0.9286\n",
      "Epoch 81/200\n",
      "48000/48000 [==============================] - 3s 58us/step - loss: 0.2243 - acc: 0.9190 - val_loss: 0.2034 - val_acc: 0.9264\n",
      "Epoch 82/200\n",
      "48000/48000 [==============================] - 3s 55us/step - loss: 0.2225 - acc: 0.9181 - val_loss: 0.2047 - val_acc: 0.9274\n",
      "Epoch 83/200\n",
      "48000/48000 [==============================] - 3s 56us/step - loss: 0.2200 - acc: 0.9198 - val_loss: 0.1998 - val_acc: 0.9262\n",
      "Epoch 84/200\n",
      "48000/48000 [==============================] - 3s 56us/step - loss: 0.2230 - acc: 0.9185 - val_loss: 0.2029 - val_acc: 0.9262\n",
      "Epoch 85/200\n",
      "48000/48000 [==============================] - 3s 56us/step - loss: 0.2235 - acc: 0.9181 - val_loss: 0.2051 - val_acc: 0.9268\n",
      "Epoch 86/200\n",
      "48000/48000 [==============================] - 3s 57us/step - loss: 0.2224 - acc: 0.9190 - val_loss: 0.2046 - val_acc: 0.9272\n",
      "Epoch 87/200\n",
      "48000/48000 [==============================] - 3s 55us/step - loss: 0.2194 - acc: 0.9205 - val_loss: 0.2082 - val_acc: 0.9248\n",
      "Epoch 88/200\n",
      "48000/48000 [==============================] - 3s 56us/step - loss: 0.2182 - acc: 0.9202 - val_loss: 0.2079 - val_acc: 0.9273\n",
      "Epoch 89/200\n",
      "48000/48000 [==============================] - 3s 56us/step - loss: 0.2182 - acc: 0.9198 - val_loss: 0.2049 - val_acc: 0.9272\n",
      "Epoch 90/200\n",
      "48000/48000 [==============================] - 3s 55us/step - loss: 0.2150 - acc: 0.9215 - val_loss: 0.2148 - val_acc: 0.9233\n",
      "Epoch 91/200\n",
      "48000/48000 [==============================] - 3s 57us/step - loss: 0.2173 - acc: 0.9214 - val_loss: 0.2039 - val_acc: 0.9266\n",
      "Epoch 92/200\n",
      "48000/48000 [==============================] - 3s 57us/step - loss: 0.2175 - acc: 0.9216 - val_loss: 0.2091 - val_acc: 0.9230\n",
      "Epoch 93/200\n",
      "48000/48000 [==============================] - 3s 55us/step - loss: 0.2158 - acc: 0.9219 - val_loss: 0.2017 - val_acc: 0.9283\n",
      "Epoch 94/200\n",
      "48000/48000 [==============================] - 3s 55us/step - loss: 0.2168 - acc: 0.9219 - val_loss: 0.2061 - val_acc: 0.9252\n",
      "Epoch 95/200\n",
      "48000/48000 [==============================] - 3s 56us/step - loss: 0.2177 - acc: 0.9213 - val_loss: 0.2025 - val_acc: 0.9263\n",
      "Epoch 96/200\n",
      "48000/48000 [==============================] - 3s 55us/step - loss: 0.2140 - acc: 0.9219 - val_loss: 0.2038 - val_acc: 0.9269\n",
      "Epoch 97/200\n",
      "48000/48000 [==============================] - 3s 55us/step - loss: 0.2138 - acc: 0.9227 - val_loss: 0.2028 - val_acc: 0.9274\n",
      "Epoch 98/200\n",
      "48000/48000 [==============================] - 3s 56us/step - loss: 0.2111 - acc: 0.9215 - val_loss: 0.2034 - val_acc: 0.9280\n",
      "Epoch 99/200\n",
      "48000/48000 [==============================] - 3s 57us/step - loss: 0.2137 - acc: 0.9237 - val_loss: 0.2052 - val_acc: 0.9284\n",
      "Epoch 100/200\n",
      "48000/48000 [==============================] - 3s 55us/step - loss: 0.2145 - acc: 0.9223 - val_loss: 0.2018 - val_acc: 0.9287\n",
      "Epoch 101/200\n",
      "48000/48000 [==============================] - 3s 56us/step - loss: 0.2119 - acc: 0.9230 - val_loss: 0.2016 - val_acc: 0.9276\n",
      "Epoch 102/200\n",
      "48000/48000 [==============================] - 3s 58us/step - loss: 0.2115 - acc: 0.9226 - val_loss: 0.2008 - val_acc: 0.9284\n",
      "Epoch 103/200\n",
      "48000/48000 [==============================] - 3s 56us/step - loss: 0.2149 - acc: 0.9212 - val_loss: 0.2008 - val_acc: 0.9282\n",
      "Epoch 104/200\n",
      "48000/48000 [==============================] - 3s 55us/step - loss: 0.2088 - acc: 0.9245 - val_loss: 0.2000 - val_acc: 0.9272\n",
      "Epoch 105/200\n",
      "48000/48000 [==============================] - 3s 56us/step - loss: 0.2123 - acc: 0.9236 - val_loss: 0.1991 - val_acc: 0.9301\n",
      "Epoch 106/200\n",
      "48000/48000 [==============================] - 3s 53us/step - loss: 0.2118 - acc: 0.9222 - val_loss: 0.2084 - val_acc: 0.9255\n",
      "Epoch 107/200\n",
      "48000/48000 [==============================] - 3s 59us/step - loss: 0.2105 - acc: 0.9244 - val_loss: 0.2242 - val_acc: 0.9185\n",
      "Epoch 108/200\n",
      "48000/48000 [==============================] - 3s 55us/step - loss: 0.2126 - acc: 0.9215 - val_loss: 0.2054 - val_acc: 0.9258\n",
      "Epoch 109/200\n",
      "48000/48000 [==============================] - 3s 55us/step - loss: 0.2075 - acc: 0.9242 - val_loss: 0.2018 - val_acc: 0.9310\n",
      "Epoch 110/200\n",
      "48000/48000 [==============================] - 3s 56us/step - loss: 0.2025 - acc: 0.9268 - val_loss: 0.2006 - val_acc: 0.9289\n",
      "Epoch 111/200\n",
      "48000/48000 [==============================] - 3s 55us/step - loss: 0.2066 - acc: 0.9240 - val_loss: 0.2028 - val_acc: 0.9272\n",
      "Epoch 112/200\n",
      "48000/48000 [==============================] - 3s 54us/step - loss: 0.2072 - acc: 0.9247 - val_loss: 0.2042 - val_acc: 0.9291\n",
      "Epoch 113/200\n",
      "48000/48000 [==============================] - 3s 54us/step - loss: 0.2100 - acc: 0.9232 - val_loss: 0.2032 - val_acc: 0.9276\n",
      "Epoch 114/200\n",
      "48000/48000 [==============================] - 3s 56us/step - loss: 0.2046 - acc: 0.9246 - val_loss: 0.1971 - val_acc: 0.9308\n",
      "Epoch 115/200\n",
      "48000/48000 [==============================] - 3s 55us/step - loss: 0.2044 - acc: 0.9248 - val_loss: 0.2047 - val_acc: 0.9268\n",
      "Epoch 116/200\n",
      "48000/48000 [==============================] - 3s 56us/step - loss: 0.2033 - acc: 0.9256 - val_loss: 0.2030 - val_acc: 0.9280\n",
      "Epoch 117/200\n",
      "48000/48000 [==============================] - 3s 57us/step - loss: 0.2087 - acc: 0.9245 - val_loss: 0.2005 - val_acc: 0.9277\n"
     ]
    },
    {
     "name": "stdout",
     "output_type": "stream",
     "text": [
      "Epoch 118/200\n",
      "48000/48000 [==============================] - 3s 56us/step - loss: 0.2081 - acc: 0.9230 - val_loss: 0.2048 - val_acc: 0.9279\n",
      "Epoch 119/200\n",
      "48000/48000 [==============================] - 3s 56us/step - loss: 0.2066 - acc: 0.9264 - val_loss: 0.2011 - val_acc: 0.9293\n",
      "Epoch 120/200\n",
      "48000/48000 [==============================] - 3s 57us/step - loss: 0.2019 - acc: 0.9272 - val_loss: 0.2097 - val_acc: 0.9291\n",
      "Epoch 121/200\n",
      "48000/48000 [==============================] - 3s 56us/step - loss: 0.2040 - acc: 0.9260 - val_loss: 0.1996 - val_acc: 0.9294\n",
      "Epoch 122/200\n",
      "48000/48000 [==============================] - 3s 56us/step - loss: 0.2060 - acc: 0.9249 - val_loss: 0.1977 - val_acc: 0.9314\n",
      "Epoch 123/200\n",
      "48000/48000 [==============================] - 3s 57us/step - loss: 0.2012 - acc: 0.9268 - val_loss: 0.1980 - val_acc: 0.9307\n",
      "Epoch 124/200\n",
      "48000/48000 [==============================] - 3s 60us/step - loss: 0.2002 - acc: 0.9278 - val_loss: 0.1970 - val_acc: 0.9307\n",
      "Epoch 125/200\n",
      "48000/48000 [==============================] - 3s 58us/step - loss: 0.2043 - acc: 0.9257 - val_loss: 0.1993 - val_acc: 0.9273\n",
      "Epoch 126/200\n",
      "48000/48000 [==============================] - 3s 56us/step - loss: 0.2023 - acc: 0.9264 - val_loss: 0.2003 - val_acc: 0.9273\n",
      "Epoch 127/200\n",
      "48000/48000 [==============================] - 3s 55us/step - loss: 0.2009 - acc: 0.9268 - val_loss: 0.2002 - val_acc: 0.9308\n",
      "Epoch 128/200\n",
      "48000/48000 [==============================] - 3s 59us/step - loss: 0.2027 - acc: 0.9271 - val_loss: 0.1986 - val_acc: 0.9299\n",
      "Epoch 129/200\n",
      "48000/48000 [==============================] - 3s 57us/step - loss: 0.2014 - acc: 0.9253 - val_loss: 0.2046 - val_acc: 0.9282\n",
      "Epoch 130/200\n",
      "48000/48000 [==============================] - 3s 56us/step - loss: 0.2013 - acc: 0.9271 - val_loss: 0.2065 - val_acc: 0.9280\n",
      "Epoch 131/200\n",
      "48000/48000 [==============================] - 3s 54us/step - loss: 0.2043 - acc: 0.9257 - val_loss: 0.1959 - val_acc: 0.9305\n",
      "Epoch 132/200\n",
      "48000/48000 [==============================] - 3s 56us/step - loss: 0.2015 - acc: 0.9277 - val_loss: 0.2003 - val_acc: 0.9302\n",
      "Epoch 133/200\n",
      "48000/48000 [==============================] - 3s 57us/step - loss: 0.2041 - acc: 0.9264 - val_loss: 0.1964 - val_acc: 0.9302\n",
      "Epoch 134/200\n",
      "48000/48000 [==============================] - 3s 57us/step - loss: 0.2001 - acc: 0.9279 - val_loss: 0.1964 - val_acc: 0.9306\n",
      "Epoch 135/200\n",
      "48000/48000 [==============================] - 3s 57us/step - loss: 0.1976 - acc: 0.9274 - val_loss: 0.1991 - val_acc: 0.9322\n",
      "Epoch 136/200\n",
      "48000/48000 [==============================] - 3s 59us/step - loss: 0.2005 - acc: 0.9279 - val_loss: 0.1975 - val_acc: 0.9309\n",
      "Epoch 137/200\n",
      "48000/48000 [==============================] - 3s 56us/step - loss: 0.1983 - acc: 0.9281 - val_loss: 0.1912 - val_acc: 0.9324\n",
      "Epoch 138/200\n",
      "48000/48000 [==============================] - 3s 58us/step - loss: 0.1923 - acc: 0.9285 - val_loss: 0.1943 - val_acc: 0.9316\n",
      "Epoch 139/200\n",
      "48000/48000 [==============================] - 3s 55us/step - loss: 0.2000 - acc: 0.9275 - val_loss: 0.1985 - val_acc: 0.9294\n",
      "Epoch 140/200\n",
      "48000/48000 [==============================] - 3s 57us/step - loss: 0.1975 - acc: 0.9286 - val_loss: 0.1987 - val_acc: 0.9294\n",
      "Epoch 141/200\n",
      "48000/48000 [==============================] - 3s 56us/step - loss: 0.1936 - acc: 0.9297 - val_loss: 0.1969 - val_acc: 0.9313\n",
      "Epoch 142/200\n",
      "48000/48000 [==============================] - 3s 56us/step - loss: 0.1984 - acc: 0.9270 - val_loss: 0.2041 - val_acc: 0.9282\n",
      "Epoch 143/200\n",
      "48000/48000 [==============================] - 3s 54us/step - loss: 0.1956 - acc: 0.9284 - val_loss: 0.1970 - val_acc: 0.9304\n",
      "Epoch 144/200\n",
      "48000/48000 [==============================] - 3s 56us/step - loss: 0.1978 - acc: 0.9278 - val_loss: 0.2051 - val_acc: 0.9278\n",
      "Epoch 145/200\n",
      "48000/48000 [==============================] - 3s 58us/step - loss: 0.1925 - acc: 0.9311 - val_loss: 0.1978 - val_acc: 0.9303\n",
      "Epoch 146/200\n",
      "48000/48000 [==============================] - 3s 55us/step - loss: 0.1932 - acc: 0.9297 - val_loss: 0.1996 - val_acc: 0.9288\n",
      "Epoch 147/200\n",
      "48000/48000 [==============================] - 3s 55us/step - loss: 0.1938 - acc: 0.9303 - val_loss: 0.1916 - val_acc: 0.9327\n",
      "Epoch 148/200\n",
      "48000/48000 [==============================] - 3s 57us/step - loss: 0.1934 - acc: 0.9291 - val_loss: 0.1964 - val_acc: 0.9311\n",
      "Epoch 149/200\n",
      "48000/48000 [==============================] - 3s 55us/step - loss: 0.1971 - acc: 0.9273 - val_loss: 0.1983 - val_acc: 0.9299\n",
      "Epoch 150/200\n",
      "48000/48000 [==============================] - 3s 55us/step - loss: 0.1951 - acc: 0.9288 - val_loss: 0.1960 - val_acc: 0.9307\n",
      "Epoch 151/200\n",
      "48000/48000 [==============================] - 3s 58us/step - loss: 0.1904 - acc: 0.9292 - val_loss: 0.2038 - val_acc: 0.9266\n",
      "Epoch 152/200\n",
      "48000/48000 [==============================] - 3s 57us/step - loss: 0.1928 - acc: 0.9311 - val_loss: 0.1951 - val_acc: 0.9304\n",
      "Epoch 153/200\n",
      "48000/48000 [==============================] - 3s 56us/step - loss: 0.1917 - acc: 0.9298 - val_loss: 0.1926 - val_acc: 0.9319\n",
      "Epoch 154/200\n",
      "48000/48000 [==============================] - 3s 54us/step - loss: 0.1896 - acc: 0.9314 - val_loss: 0.2036 - val_acc: 0.9272\n",
      "Epoch 155/200\n",
      "48000/48000 [==============================] - 3s 58us/step - loss: 0.1906 - acc: 0.9299 - val_loss: 0.2007 - val_acc: 0.9289\n",
      "Epoch 156/200\n",
      "48000/48000 [==============================] - 3s 56us/step - loss: 0.1915 - acc: 0.9300 - val_loss: 0.1943 - val_acc: 0.9313\n",
      "Epoch 157/200\n",
      "48000/48000 [==============================] - 3s 56us/step - loss: 0.1960 - acc: 0.9303 - val_loss: 0.1931 - val_acc: 0.9329\n",
      "Epoch 158/200\n",
      "48000/48000 [==============================] - 3s 57us/step - loss: 0.1958 - acc: 0.9300 - val_loss: 0.1948 - val_acc: 0.9304\n",
      "Epoch 159/200\n",
      "48000/48000 [==============================] - 3s 57us/step - loss: 0.1901 - acc: 0.9310 - val_loss: 0.1977 - val_acc: 0.9301\n",
      "Epoch 160/200\n",
      "48000/48000 [==============================] - 3s 56us/step - loss: 0.1889 - acc: 0.9318 - val_loss: 0.1960 - val_acc: 0.9306\n",
      "Epoch 161/200\n",
      "48000/48000 [==============================] - 3s 56us/step - loss: 0.1879 - acc: 0.9314 - val_loss: 0.1963 - val_acc: 0.9290\n",
      "Epoch 162/200\n",
      "48000/48000 [==============================] - 3s 58us/step - loss: 0.1881 - acc: 0.9323 - val_loss: 0.1970 - val_acc: 0.9311\n",
      "Epoch 163/200\n",
      "48000/48000 [==============================] - 3s 57us/step - loss: 0.1870 - acc: 0.9311 - val_loss: 0.1958 - val_acc: 0.9330\n",
      "Epoch 164/200\n",
      "48000/48000 [==============================] - 3s 55us/step - loss: 0.1911 - acc: 0.9300 - val_loss: 0.1941 - val_acc: 0.9308\n",
      "Epoch 165/200\n",
      "48000/48000 [==============================] - 3s 54us/step - loss: 0.1882 - acc: 0.9331 - val_loss: 0.1983 - val_acc: 0.9307\n",
      "Epoch 166/200\n",
      "48000/48000 [==============================] - 3s 56us/step - loss: 0.1926 - acc: 0.9307 - val_loss: 0.1921 - val_acc: 0.9331\n",
      "Epoch 167/200\n",
      "48000/48000 [==============================] - 3s 55us/step - loss: 0.1886 - acc: 0.9320 - val_loss: 0.1993 - val_acc: 0.9328\n",
      "Epoch 168/200\n",
      "48000/48000 [==============================] - 3s 56us/step - loss: 0.1901 - acc: 0.9312 - val_loss: 0.1995 - val_acc: 0.9308\n",
      "Epoch 169/200\n",
      "48000/48000 [==============================] - 3s 57us/step - loss: 0.1867 - acc: 0.9312 - val_loss: 0.2025 - val_acc: 0.9288\n",
      "Epoch 170/200\n",
      "48000/48000 [==============================] - 3s 56us/step - loss: 0.1868 - acc: 0.9322 - val_loss: 0.1932 - val_acc: 0.9328\n",
      "Epoch 171/200\n",
      "48000/48000 [==============================] - 3s 58us/step - loss: 0.1866 - acc: 0.9320 - val_loss: 0.1935 - val_acc: 0.9330\n",
      "Epoch 172/200\n",
      "48000/48000 [==============================] - 3s 56us/step - loss: 0.1882 - acc: 0.9312 - val_loss: 0.1975 - val_acc: 0.9322\n",
      "Epoch 173/200\n",
      "48000/48000 [==============================] - 3s 55us/step - loss: 0.1893 - acc: 0.9308 - val_loss: 0.2061 - val_acc: 0.9258\n",
      "Epoch 174/200\n",
      "48000/48000 [==============================] - 3s 55us/step - loss: 0.1909 - acc: 0.9309 - val_loss: 0.2005 - val_acc: 0.9286\n",
      "Epoch 175/200\n",
      "48000/48000 [==============================] - 3s 54us/step - loss: 0.1867 - acc: 0.9320 - val_loss: 0.1934 - val_acc: 0.9323\n",
      "Epoch 176/200\n"
     ]
    },
    {
     "name": "stdout",
     "output_type": "stream",
     "text": [
      "48000/48000 [==============================] - 3s 56us/step - loss: 0.1874 - acc: 0.9315 - val_loss: 0.1955 - val_acc: 0.9313\n",
      "Epoch 177/200\n",
      "48000/48000 [==============================] - 3s 57us/step - loss: 0.1865 - acc: 0.9324 - val_loss: 0.1924 - val_acc: 0.9309\n",
      "Epoch 178/200\n",
      "48000/48000 [==============================] - 3s 58us/step - loss: 0.1858 - acc: 0.9333 - val_loss: 0.1965 - val_acc: 0.9304\n",
      "Epoch 179/200\n",
      "48000/48000 [==============================] - 3s 57us/step - loss: 0.1860 - acc: 0.9322 - val_loss: 0.1950 - val_acc: 0.9312\n",
      "Epoch 180/200\n",
      "48000/48000 [==============================] - 3s 56us/step - loss: 0.1844 - acc: 0.9341 - val_loss: 0.1975 - val_acc: 0.9304\n",
      "Epoch 181/200\n",
      "48000/48000 [==============================] - 3s 57us/step - loss: 0.1841 - acc: 0.9318 - val_loss: 0.1949 - val_acc: 0.9348\n",
      "Epoch 182/200\n",
      "48000/48000 [==============================] - 3s 57us/step - loss: 0.1839 - acc: 0.9326 - val_loss: 0.2048 - val_acc: 0.9291\n",
      "Epoch 183/200\n",
      "48000/48000 [==============================] - 3s 57us/step - loss: 0.1830 - acc: 0.9337 - val_loss: 0.2000 - val_acc: 0.9320\n",
      "Epoch 184/200\n",
      "48000/48000 [==============================] - 3s 58us/step - loss: 0.1891 - acc: 0.9311 - val_loss: 0.2007 - val_acc: 0.9273\n",
      "Epoch 185/200\n",
      "48000/48000 [==============================] - 3s 56us/step - loss: 0.1830 - acc: 0.9326 - val_loss: 0.1969 - val_acc: 0.9312\n",
      "Epoch 186/200\n",
      "48000/48000 [==============================] - 3s 59us/step - loss: 0.1865 - acc: 0.9332 - val_loss: 0.1980 - val_acc: 0.9310\n",
      "Epoch 187/200\n",
      "48000/48000 [==============================] - 3s 56us/step - loss: 0.1867 - acc: 0.9318 - val_loss: 0.2003 - val_acc: 0.9292\n",
      "Epoch 188/200\n",
      "48000/48000 [==============================] - 3s 58us/step - loss: 0.1857 - acc: 0.9325 - val_loss: 0.1930 - val_acc: 0.9330\n",
      "Epoch 189/200\n",
      "48000/48000 [==============================] - 3s 57us/step - loss: 0.1838 - acc: 0.9339 - val_loss: 0.1929 - val_acc: 0.9335\n",
      "Epoch 190/200\n",
      "48000/48000 [==============================] - 3s 56us/step - loss: 0.1830 - acc: 0.9339 - val_loss: 0.2018 - val_acc: 0.9277\n",
      "Epoch 191/200\n",
      "48000/48000 [==============================] - 3s 60us/step - loss: 0.1838 - acc: 0.9333 - val_loss: 0.1997 - val_acc: 0.9288\n",
      "Epoch 192/200\n",
      "48000/48000 [==============================] - 3s 57us/step - loss: 0.1833 - acc: 0.9327 - val_loss: 0.1904 - val_acc: 0.9333\n",
      "Epoch 193/200\n",
      "48000/48000 [==============================] - 3s 55us/step - loss: 0.1842 - acc: 0.9330 - val_loss: 0.1922 - val_acc: 0.9346\n",
      "Epoch 194/200\n",
      "48000/48000 [==============================] - 3s 57us/step - loss: 0.1841 - acc: 0.9330 - val_loss: 0.1932 - val_acc: 0.9315\n",
      "Epoch 195/200\n",
      "48000/48000 [==============================] - 3s 56us/step - loss: 0.1842 - acc: 0.9335 - val_loss: 0.1933 - val_acc: 0.9338\n",
      "Epoch 196/200\n",
      "48000/48000 [==============================] - 3s 57us/step - loss: 0.1836 - acc: 0.9334 - val_loss: 0.1937 - val_acc: 0.9324\n",
      "Epoch 197/200\n",
      "48000/48000 [==============================] - 3s 56us/step - loss: 0.1839 - acc: 0.9326 - val_loss: 0.1913 - val_acc: 0.9313\n",
      "Epoch 198/200\n",
      "48000/48000 [==============================] - 3s 57us/step - loss: 0.1816 - acc: 0.9338 - val_loss: 0.1985 - val_acc: 0.9294\n",
      "Epoch 199/200\n",
      "48000/48000 [==============================] - 3s 58us/step - loss: 0.1824 - acc: 0.9333 - val_loss: 0.1927 - val_acc: 0.9314\n",
      "Epoch 200/200\n",
      "48000/48000 [==============================] - 3s 54us/step - loss: 0.1794 - acc: 0.9347 - val_loss: 0.1998 - val_acc: 0.9315\n"
     ]
    }
   ],
   "source": [
    "history2 = model2.fit(\n",
    "    x_train, y_train, batch_size=batch_size,\n",
    "    epochs=200, verbose=1,\n",
    "    validation_data=(x_val, y_val)\n",
    ")"
   ]
  },
  {
   "cell_type": "code",
   "execution_count": 22,
   "metadata": {},
   "outputs": [
    {
     "data": {
      "text/plain": [
       "Text(0.5, 1.0, 'Accuracy Curves')"
      ]
     },
     "execution_count": 22,
     "metadata": {},
     "output_type": "execute_result"
    },
    {
     "data": {
      "image/png": "[encoded data removed]",
      "text/plain": [
       "<Figure size 576x432 with 1 Axes>"
      ]
     },
     "metadata": {
      "needs_background": "light"
     },
     "output_type": "display_data"
    },
    {
     "data": {
      "image/png": "[encoded data removed]",
      "text/plain": [
       "<Figure size 576x432 with 1 Axes>"
      ]
     },
     "metadata": {
      "needs_background": "light"
     },
     "output_type": "display_data"
    }
   ],
   "source": [
    "# Loss Curves\n",
    "plt.figure(figsize=[8,6])\n",
    "plt.plot(history2.history['loss'],'r',linewidth=3.0)\n",
    "plt.plot(history2.history['val_loss'],'b',linewidth=3.0)\n",
    "plt.legend(['Training loss', 'Validation Loss'],fontsize=18)\n",
    "plt.xlabel('Epochs ',fontsize=16)\n",
    "plt.ylabel('Loss',fontsize=16)\n",
    "plt.title('Loss Curves',fontsize=16)\n",
    " \n",
    "# Accuracy Curves\n",
    "plt.figure(figsize=[8,6])\n",
    "plt.plot(history2.history['acc'],'r',linewidth=3.0)\n",
    "plt.plot(history2.history['val_acc'],'b',linewidth=3.0)\n",
    "plt.legend(['Training Accuracy', 'Validation Accuracy'],fontsize=18)\n",
    "plt.xlabel('Epochs ',fontsize=16)\n",
    "plt.ylabel('Accuracy',fontsize=16)\n",
    "plt.title('Accuracy Curves',fontsize=16)"
   ]
  },
  {
   "cell_type": "code",
   "execution_count": 23,
   "metadata": {},
   "outputs": [
    {
     "name": "stdout",
     "output_type": "stream",
     "text": [
      "10000/10000 [==============================] - 1s 59us/step\n"
     ]
    },
    {
     "data": {
      "text/plain": [
       "[0.1726379780702293, 0.9367]"
      ]
     },
     "execution_count": 23,
     "metadata": {},
     "output_type": "execute_result"
    }
   ],
   "source": [
    "model2.evaluate(x_test, y_test)"
   ]
  },
  {
   "cell_type": "code",
   "execution_count": 24,
   "metadata": {},
   "outputs": [
    {
     "name": "stdout",
     "output_type": "stream",
     "text": [
      "Confusion Matrix\n",
      "[[898   0  17  11   1   0  71   0   2   0]\n",
      " [  0 992   0   5   1   0   2   0   0   0]\n",
      " [ 14   0 908  11  29   1  37   0   0   0]\n",
      " [ 11   1   2 955  15   0  15   0   0   1]\n",
      " [  0   0  23  22 888   0  66   0   1   0]\n",
      " [  0   1   0   0   0 979   0  18   1   1]\n",
      " [102   0  30  20  30   0 813   0   5   0]\n",
      " [  0   0   0   0   0   0   0 989   0  11]\n",
      " [  0   0   2   1   1   2   3   0 991   0]\n",
      " [  0   0   0   0   0   2   0  44   0 954]]\n"
     ]
    }
   ],
   "source": [
    "from sklearn.metrics import classification_report, confusion_matrix\n",
    "import numpy as np\n",
    "Y_pred = model2.predict(x_test)\n",
    "#print (Y_pred)\n",
    "y_pred = np.argmax(Y_pred, axis=1)\n",
    "#print (y_pred)\n",
    "print('Confusion Matrix')\n",
    "print(confusion_matrix(y_test, y_pred))"
   ]
  },
  {
   "cell_type": "code",
   "execution_count": 25,
   "metadata": {},
   "outputs": [
    {
     "name": "stdout",
     "output_type": "stream",
     "text": [
      "              precision    recall  f1-score   support\n",
      "\n",
      "         0.0       0.88      0.90      0.89      1000\n",
      "         1.0       1.00      0.99      0.99      1000\n",
      "         2.0       0.92      0.91      0.92      1000\n",
      "         3.0       0.93      0.95      0.94      1000\n",
      "         4.0       0.92      0.89      0.90      1000\n",
      "         5.0       0.99      0.98      0.99      1000\n",
      "         6.0       0.81      0.81      0.81      1000\n",
      "         7.0       0.94      0.99      0.96      1000\n",
      "         8.0       0.99      0.99      0.99      1000\n",
      "         9.0       0.99      0.95      0.97      1000\n",
      "\n",
      "   micro avg       0.94      0.94      0.94     10000\n",
      "   macro avg       0.94      0.94      0.94     10000\n",
      "weighted avg       0.94      0.94      0.94     10000\n",
      "\n"
     ]
    }
   ],
   "source": [
    "print(classification_report(y_test, y_pred))"
   ]
  },
  {
   "cell_type": "code",
   "execution_count": 26,
   "metadata": {},
   "outputs": [
    {
     "name": "stdout",
     "output_type": "stream",
     "text": [
      "10000/10000 [==============================] - 0s 34us/step\n"
     ]
    },
    {
     "data": {
      "text/plain": [
       "[0.24624211258888246, 0.9184]"
      ]
     },
     "execution_count": 26,
     "metadata": {},
     "output_type": "execute_result"
    }
   ],
   "source": [
    "model1.evaluate(x_test, y_test)"
   ]
  },
  {
   "cell_type": "code",
   "execution_count": 27,
   "metadata": {},
   "outputs": [
    {
     "name": "stdout",
     "output_type": "stream",
     "text": [
      "Confusion Matrix\n",
      "[[860   2  14  12   1   0 101   1   9   0]\n",
      " [  0 990   3   4   0   0   3   0   0   0]\n",
      " [ 13   1 837  13  56   0  77   0   3   0]\n",
      " [ 14  13   3 935  20   0  14   0   1   0]\n",
      " [  2   0  35  20 884   0  58   0   1   0]\n",
      " [  0   1   0   0   0 962   0  24   2  11]\n",
      " [ 91   6  37  25  38   1 795   0   7   0]\n",
      " [  0   0   0   0   0   3   0 970   0  27]\n",
      " [  4   1   1   0   1   2   6   1 983   1]\n",
      " [  0   0   0   0   0   1   0  31   0 968]]\n"
     ]
    }
   ],
   "source": [
    "from sklearn.metrics import classification_report, confusion_matrix\n",
    "import numpy as np\n",
    "Y_pred = model1.predict(x_test)\n",
    "#print (Y_pred)\n",
    "y_pred = np.argmax(Y_pred, axis=1)\n",
    "#print (y_pred)\n",
    "print('Confusion Matrix')\n",
    "print(confusion_matrix(y_test, y_pred))"
   ]
  },
  {
   "cell_type": "code",
   "execution_count": 28,
   "metadata": {},
   "outputs": [
    {
     "name": "stdout",
     "output_type": "stream",
     "text": [
      "              precision    recall  f1-score   support\n",
      "\n",
      "         0.0       0.87      0.86      0.87      1000\n",
      "         1.0       0.98      0.99      0.98      1000\n",
      "         2.0       0.90      0.84      0.87      1000\n",
      "         3.0       0.93      0.94      0.93      1000\n",
      "         4.0       0.88      0.88      0.88      1000\n",
      "         5.0       0.99      0.96      0.98      1000\n",
      "         6.0       0.75      0.80      0.77      1000\n",
      "         7.0       0.94      0.97      0.96      1000\n",
      "         8.0       0.98      0.98      0.98      1000\n",
      "         9.0       0.96      0.97      0.96      1000\n",
      "\n",
      "   micro avg       0.92      0.92      0.92     10000\n",
      "   macro avg       0.92      0.92      0.92     10000\n",
      "weighted avg       0.92      0.92      0.92     10000\n",
      "\n"
     ]
    }
   ],
   "source": [
    "print(classification_report(y_test, y_pred))"
   ]
  },
  {
   "cell_type": "code",
   "execution_count": null,
   "metadata": {},
   "outputs": [],
   "source": []
  }
 ],
 "metadata": {
  "kernelspec": {
   "display_name": "Python 3",
   "language": "python",
   "name": "python3"
  },
  "language_info": {
   "codemirror_mode": {
    "name": "ipython",
    "version": 3
   },
   "file_extension": ".py",
   "mimetype": "text/x-python",
   "name": "python",
   "nbconvert_exporter": "python",
   "pygments_lexer": "ipython3",
   "version": "3.6.8"
  }
 },
 "nbformat": 4,
 "nbformat_minor": 2
}
